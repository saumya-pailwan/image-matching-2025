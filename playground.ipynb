{
 "cells": [
  {
   "cell_type": "markdown",
   "metadata": {},
   "source": [
    "This file serves as a playground file to read and visualized the data"
   ]
  },
  {
   "cell_type": "markdown",
   "metadata": {},
   "source": [
    "normalize first, then add padding"
   ]
  },
  {
   "cell_type": "code",
   "execution_count": 1,
   "metadata": {},
   "outputs": [],
   "source": [
    "import torch\n",
    "import torch.nn.functional as F\n",
    "\n",
    "import numpy as np\n",
    "import pandas as pd\n",
    "import matplotlib.pyplot as plt\n",
    "from os.path import join\n",
    "import os\n",
    "import sys\n",
    "\n",
    "data_dir = \"/home/icip_2025/data\""
   ]
  },
  {
   "cell_type": "markdown",
   "metadata": {},
   "source": [
    "Reading in labels"
   ]
  },
  {
   "cell_type": "code",
   "execution_count": 3,
   "metadata": {},
   "outputs": [],
   "source": [
    "train_dir = join(data_dir, \"train\")\n",
    "\n",
    "datasets = os.listdir(train_dir)\n",
    "\n",
    "shape = None\n",
    "\n",
    "sizes = []\n",
    "dataset_sizes = []\n",
    "images = []\n",
    "dataset_n_images = []\n",
    "image_names = []\n",
    "\n",
    "for dataset in datasets:\n",
    "    dataset_path = join(train_dir, dataset)\n",
    "    dataset_images = os.listdir(dataset_path)\n",
    "\n",
    "    d_sizes = []\n",
    "\n",
    "    dataset_n_images.append(len(dataset_images))\n",
    "\n",
    "    for image_name in dataset_images:\n",
    "        image_path = join(dataset_path, image_name)\n",
    "        image = plt.imread(image_path)\n",
    "\n",
    "        s = image.shape\n",
    "        s = s if s[1] / s[0] > 1 else (s[1], s[0], 3)\n",
    "        sizes.append(s)\n",
    "        d_sizes.append(s)\n",
    "        images.append(image)\n",
    "        image_names.append(image_name)\n",
    "\n",
    "\n",
    "    dataset_sizes.append(d_sizes)"
   ]
  },
  {
   "cell_type": "markdown",
   "metadata": {},
   "source": [
    "Viewing Scenes"
   ]
  },
  {
   "cell_type": "code",
   "execution_count": 5,
   "metadata": {},
   "outputs": [
    {
     "data": {
      "text/plain": [
       "(array([ 849.13984576, 1235.15526992,    3.        ]),\n",
       " array([117, 204,   3]),\n",
       " array([4032, 6048,    3]),\n",
       " array([ 700., 1024.,    3.]))"
      ]
     },
     "execution_count": 5,
     "metadata": {},
     "output_type": "execute_result"
    }
   ],
   "source": [
    "sizes = np.array(sizes)\n",
    "\n",
    "sizes.mean(axis = 0), sizes.min(axis = 0), sizes.max(axis = 0), np.median(sizes, axis = 0)"
   ]
  },
  {
   "cell_type": "code",
   "execution_count": 6,
   "metadata": {},
   "outputs": [],
   "source": [
    "aspect_ratios = sizes[:, 1] / sizes[:, 0]"
   ]
  },
  {
   "cell_type": "code",
   "execution_count": 7,
   "metadata": {},
   "outputs": [
    {
     "data": {
      "text/plain": [
       "np.float64(0.03882707177657215)"
      ]
     },
     "execution_count": 7,
     "metadata": {},
     "output_type": "execute_result"
    }
   ],
   "source": [
    "aspect_ratios.var()"
   ]
  },
  {
   "cell_type": "code",
   "execution_count": 8,
   "metadata": {},
   "outputs": [
    {
     "data": {
      "text/plain": [
       "(array([ 49.,  59., 818., 491.,  49., 463.,  12.,   1.,   0.,   3.]),\n",
       " array([1.        , 1.13432494, 1.26864989, 1.40297483, 1.53729977,\n",
       "        1.67162471, 1.80594966, 1.9402746 , 2.07459954, 2.20892449,\n",
       "        2.34324943]),\n",
       " <BarContainer object of 10 artists>)"
      ]
     },
     "execution_count": 8,
     "metadata": {},
     "output_type": "execute_result"
    },
    {
     "data": {
      "image/png": "[encoded data removed]",
      "text/plain": [
       "<Figure size 640x480 with 1 Axes>"
      ]
     },
     "metadata": {},
     "output_type": "display_data"
    }
   ],
   "source": [
    "plt.hist(aspect_ratios, bins = 10)"
   ]
  },
  {
   "cell_type": "code",
   "execution_count": 33,
   "metadata": {},
   "outputs": [
    {
     "data": {
      "text/plain": [
       "(array([215.,  50., 751., 676.,   6.,  75.,   0.,   5.,   1.,   2.,   0.,\n",
       "         68.,   0.,   0.,   0.,   2.,   1.,   0.,   1.,   0.,   0.,   0.,\n",
       "          0.,   1.,   9.,   0.,   0.,   2.,   0.,   0.,   0.,   0.,   0.,\n",
       "          0.,   0.,   0.,   0.,   0.,   0.,   0.,   0.,   2.,   0.,   0.,\n",
       "          0.,   0.,   0.,   0.,   0.,   5.,   0.,   0.,   0.,   0.,   0.,\n",
       "          0.,   0.,   0.,   0.,   0.,   0.,   0.,   0.,   0.,   0.,   0.,\n",
       "          0.,   0.,   0.,   0.,   0.,   0.,   0.,   0.,   0.,   0.,   0.,\n",
       "          0.,   0.,   0.,   0.,   0.,   0.,   0.,   0.,   0.,   0.,   0.,\n",
       "          0.,   0.,   0.,   0.,   0.,   0.,   0.,   0.,   0.,   0.,   0.,\n",
       "         73.]),\n",
       " array([2.38680000e+04, 2.67484680e+05, 5.11101360e+05, 7.54718040e+05,\n",
       "        9.98334720e+05, 1.24195140e+06, 1.48556808e+06, 1.72918476e+06,\n",
       "        1.97280144e+06, 2.21641812e+06, 2.46003480e+06, 2.70365148e+06,\n",
       "        2.94726816e+06, 3.19088484e+06, 3.43450152e+06, 3.67811820e+06,\n",
       "        3.92173488e+06, 4.16535156e+06, 4.40896824e+06, 4.65258492e+06,\n",
       "        4.89620160e+06, 5.13981828e+06, 5.38343496e+06, 5.62705164e+06,\n",
       "        5.87066832e+06, 6.11428500e+06, 6.35790168e+06, 6.60151836e+06,\n",
       "        6.84513504e+06, 7.08875172e+06, 7.33236840e+06, 7.57598508e+06,\n",
       "        7.81960176e+06, 8.06321844e+06, 8.30683512e+06, 8.55045180e+06,\n",
       "        8.79406848e+06, 9.03768516e+06, 9.28130184e+06, 9.52491852e+06,\n",
       "        9.76853520e+06, 1.00121519e+07, 1.02557686e+07, 1.04993852e+07,\n",
       "        1.07430019e+07, 1.09866186e+07, 1.12302353e+07, 1.14738520e+07,\n",
       "        1.17174686e+07, 1.19610853e+07, 1.22047020e+07, 1.24483187e+07,\n",
       "        1.26919354e+07, 1.29355520e+07, 1.31791687e+07, 1.34227854e+07,\n",
       "        1.36664021e+07, 1.39100188e+07, 1.41536354e+07, 1.43972521e+07,\n",
       "        1.46408688e+07, 1.48844855e+07, 1.51281022e+07, 1.53717188e+07,\n",
       "        1.56153355e+07, 1.58589522e+07, 1.61025689e+07, 1.63461856e+07,\n",
       "        1.65898022e+07, 1.68334189e+07, 1.70770356e+07, 1.73206523e+07,\n",
       "        1.75642690e+07, 1.78078856e+07, 1.80515023e+07, 1.82951190e+07,\n",
       "        1.85387357e+07, 1.87823524e+07, 1.90259690e+07, 1.92695857e+07,\n",
       "        1.95132024e+07, 1.97568191e+07, 2.00004358e+07, 2.02440524e+07,\n",
       "        2.04876691e+07, 2.07312858e+07, 2.09749025e+07, 2.12185192e+07,\n",
       "        2.14621358e+07, 2.17057525e+07, 2.19493692e+07, 2.21929859e+07,\n",
       "        2.24366026e+07, 2.26802192e+07, 2.29238359e+07, 2.31674526e+07,\n",
       "        2.34110693e+07, 2.36546860e+07, 2.38983026e+07, 2.41419193e+07,\n",
       "        2.43855360e+07]),\n",
       " <BarContainer object of 100 artists>)"
      ]
     },
     "execution_count": 33,
     "metadata": {},
     "output_type": "execute_result"
    },
    {
     "data": {
      "image/png": "[encoded data removed]",
      "text/plain": [
       "<Figure size 640x480 with 1 Axes>"
      ]
     },
     "metadata": {},
     "output_type": "display_data"
    }
   ],
   "source": [
    "plt.hist(sizes[:, 0] * sizes[:, 1], bins = 100)\n",
    "# plt.xlim(0, 0.5e7)"
   ]
  },
  {
   "cell_type": "code",
   "execution_count": 11,
   "metadata": {},
   "outputs": [],
   "source": [
    "image_sizes = sizes[:, 0] * sizes[:, 1]"
   ]
  },
  {
   "cell_type": "code",
   "execution_count": 91,
   "metadata": {},
   "outputs": [
    {
     "data": {
      "text/plain": [
       "np.int64(1417)"
      ]
     },
     "execution_count": 91,
     "metadata": {},
     "output_type": "execute_result"
    }
   ],
   "source": [
    "image_sizes.argsort()[-500]"
   ]
  },
  {
   "cell_type": "code",
   "execution_count": 2,
   "metadata": {},
   "outputs": [],
   "source": [
    "labels = pd.read_csv(join(data_dir, \"train_labels.csv\"))"
   ]
  },
  {
   "cell_type": "code",
   "execution_count": 3,
   "metadata": {},
   "outputs": [
    {
     "data": {
      "text/html": [
       "<div>\n",
       "<style scoped>\n",
       "    .dataframe tbody tr th:only-of-type {\n",
       "        vertical-align: middle;\n",
       "    }\n",
       "\n",
       "    .dataframe tbody tr th {\n",
       "        vertical-align: top;\n",
       "    }\n",
       "\n",
       "    .dataframe thead th {\n",
       "        text-align: right;\n",
       "    }\n",
       "</style>\n",
       "<table border=\"1\" class=\"dataframe\">\n",
       "  <thead>\n",
       "    <tr style=\"text-align: right;\">\n",
       "      <th></th>\n",
       "      <th>dataset</th>\n",
       "      <th>scene</th>\n",
       "      <th>image</th>\n",
       "      <th>rotation_matrix</th>\n",
       "      <th>translation_vector</th>\n",
       "    </tr>\n",
       "  </thead>\n",
       "  <tbody>\n",
       "    <tr>\n",
       "      <th>0</th>\n",
       "      <td>imc2023_haiper</td>\n",
       "      <td>fountain</td>\n",
       "      <td>fountain_image_116.png</td>\n",
       "      <td>0.122655949;0.947713775;-0.294608417;0.1226706...</td>\n",
       "      <td>0.093771314;-0.803560988;2.062001533</td>\n",
       "    </tr>\n",
       "    <tr>\n",
       "      <th>1</th>\n",
       "      <td>imc2023_haiper</td>\n",
       "      <td>fountain</td>\n",
       "      <td>fountain_image_108.png</td>\n",
       "      <td>0.474305910;0.359108654;-0.803787832;0.2888416...</td>\n",
       "      <td>0.358946647;-0.797557548;1.910906929</td>\n",
       "    </tr>\n",
       "    <tr>\n",
       "      <th>2</th>\n",
       "      <td>imc2023_haiper</td>\n",
       "      <td>fountain</td>\n",
       "      <td>fountain_image_101.png</td>\n",
       "      <td>0.565115476;-0.138485064;-0.813305838;0.506678...</td>\n",
       "      <td>0.146922468;-0.981392596;2.009002852</td>\n",
       "    </tr>\n",
       "    <tr>\n",
       "      <th>3</th>\n",
       "      <td>imc2023_haiper</td>\n",
       "      <td>fountain</td>\n",
       "      <td>fountain_image_082.png</td>\n",
       "      <td>-0.308320392;-0.794654112;0.522937261;0.948141...</td>\n",
       "      <td>0.206413831;-1.174321103;3.667167680</td>\n",
       "    </tr>\n",
       "    <tr>\n",
       "      <th>4</th>\n",
       "      <td>imc2023_haiper</td>\n",
       "      <td>fountain</td>\n",
       "      <td>fountain_image_071.png</td>\n",
       "      <td>-0.569002830;-0.103808175;0.815757098;0.778745...</td>\n",
       "      <td>-0.015140892;-1.334052012;3.488936597</td>\n",
       "    </tr>\n",
       "    <tr>\n",
       "      <th>...</th>\n",
       "      <td>...</td>\n",
       "      <td>...</td>\n",
       "      <td>...</td>\n",
       "      <td>...</td>\n",
       "      <td>...</td>\n",
       "    </tr>\n",
       "    <tr>\n",
       "      <th>1940</th>\n",
       "      <td>stairs</td>\n",
       "      <td>stairs_split_2</td>\n",
       "      <td>stairs_split_2_1710453733751.png</td>\n",
       "      <td>0.961762441;-0.187990401;0.199179859;-0.177691...</td>\n",
       "      <td>-0.112850000;-3.521750000;-2.859750000</td>\n",
       "    </tr>\n",
       "    <tr>\n",
       "      <th>1941</th>\n",
       "      <td>stairs</td>\n",
       "      <td>stairs_split_2</td>\n",
       "      <td>stairs_split_2_1710453759963.png</td>\n",
       "      <td>0.237960308;0.580896704;-0.778417569;0.4077886...</td>\n",
       "      <td>-0.490768000;-3.064140000;3.008420000</td>\n",
       "    </tr>\n",
       "    <tr>\n",
       "      <th>1942</th>\n",
       "      <td>stairs</td>\n",
       "      <td>stairs_split_2</td>\n",
       "      <td>stairs_split_2_1710453805788.png</td>\n",
       "      <td>0.309067298;0.541767194;-0.781642957;0.4038963...</td>\n",
       "      <td>-0.572757000;0.885835000;4.987270000</td>\n",
       "    </tr>\n",
       "    <tr>\n",
       "      <th>1943</th>\n",
       "      <td>stairs</td>\n",
       "      <td>stairs_split_2</td>\n",
       "      <td>stairs_split_2_1710453765165.png</td>\n",
       "      <td>0.301920210;0.609614467;-0.732949103;0.5007116...</td>\n",
       "      <td>-0.135613000;-1.832910000;1.598790000</td>\n",
       "    </tr>\n",
       "    <tr>\n",
       "      <th>1944</th>\n",
       "      <td>stairs</td>\n",
       "      <td>stairs_split_2</td>\n",
       "      <td>stairs_split_2_1710453774370.png</td>\n",
       "      <td>0.744374958;0.439048204;-0.503132782;0.4197719...</td>\n",
       "      <td>-0.367979000;-0.607935000;0.621483000</td>\n",
       "    </tr>\n",
       "  </tbody>\n",
       "</table>\n",
       "<p>1945 rows × 5 columns</p>\n",
       "</div>"
      ],
      "text/plain": [
       "             dataset           scene                             image  \\\n",
       "0     imc2023_haiper        fountain            fountain_image_116.png   \n",
       "1     imc2023_haiper        fountain            fountain_image_108.png   \n",
       "2     imc2023_haiper        fountain            fountain_image_101.png   \n",
       "3     imc2023_haiper        fountain            fountain_image_082.png   \n",
       "4     imc2023_haiper        fountain            fountain_image_071.png   \n",
       "...              ...             ...                               ...   \n",
       "1940          stairs  stairs_split_2  stairs_split_2_1710453733751.png   \n",
       "1941          stairs  stairs_split_2  stairs_split_2_1710453759963.png   \n",
       "1942          stairs  stairs_split_2  stairs_split_2_1710453805788.png   \n",
       "1943          stairs  stairs_split_2  stairs_split_2_1710453765165.png   \n",
       "1944          stairs  stairs_split_2  stairs_split_2_1710453774370.png   \n",
       "\n",
       "                                        rotation_matrix  \\\n",
       "0     0.122655949;0.947713775;-0.294608417;0.1226706...   \n",
       "1     0.474305910;0.359108654;-0.803787832;0.2888416...   \n",
       "2     0.565115476;-0.138485064;-0.813305838;0.506678...   \n",
       "3     -0.308320392;-0.794654112;0.522937261;0.948141...   \n",
       "4     -0.569002830;-0.103808175;0.815757098;0.778745...   \n",
       "...                                                 ...   \n",
       "1940  0.961762441;-0.187990401;0.199179859;-0.177691...   \n",
       "1941  0.237960308;0.580896704;-0.778417569;0.4077886...   \n",
       "1942  0.309067298;0.541767194;-0.781642957;0.4038963...   \n",
       "1943  0.301920210;0.609614467;-0.732949103;0.5007116...   \n",
       "1944  0.744374958;0.439048204;-0.503132782;0.4197719...   \n",
       "\n",
       "                          translation_vector  \n",
       "0       0.093771314;-0.803560988;2.062001533  \n",
       "1       0.358946647;-0.797557548;1.910906929  \n",
       "2       0.146922468;-0.981392596;2.009002852  \n",
       "3       0.206413831;-1.174321103;3.667167680  \n",
       "4      -0.015140892;-1.334052012;3.488936597  \n",
       "...                                      ...  \n",
       "1940  -0.112850000;-3.521750000;-2.859750000  \n",
       "1941   -0.490768000;-3.064140000;3.008420000  \n",
       "1942    -0.572757000;0.885835000;4.987270000  \n",
       "1943   -0.135613000;-1.832910000;1.598790000  \n",
       "1944   -0.367979000;-0.607935000;0.621483000  \n",
       "\n",
       "[1945 rows x 5 columns]"
      ]
     },
     "execution_count": 3,
     "metadata": {},
     "output_type": "execute_result"
    }
   ],
   "source": [
    "labels"
   ]
  },
  {
   "cell_type": "code",
   "execution_count": 4,
   "metadata": {},
   "outputs": [],
   "source": [
    "import torch\n",
    "import numpy as np"
   ]
  },
  {
   "cell_type": "code",
   "execution_count": 7,
   "metadata": {},
   "outputs": [],
   "source": [
    "Z = torch.from_numpy(np.array([\n",
    "    [0, 0],\n",
    "    [0, 0],\n",
    "    [0, 0]\n",
    "]))\n",
    "\n",
    "C = torch.from_numpy(np.array([\n",
    "    [1, 1],\n",
    "    [2, 2]\n",
    "]))"
   ]
  },
  {
   "cell_type": "code",
   "execution_count": 26,
   "metadata": {},
   "outputs": [
    {
     "data": {
      "text/plain": [
       "torch.Size([3, 2])"
      ]
     },
     "execution_count": 26,
     "metadata": {},
     "output_type": "execute_result"
    }
   ],
   "source": [
    "torch.linalg.vector_norm((1 + Z.unsqueeze(1) - C.unsqueeze(0)).float(), dim = -1).shape"
   ]
  },
  {
   "cell_type": "code",
   "execution_count": 27,
   "metadata": {},
   "outputs": [],
   "source": [
    "hollow_matrix = torch.ones((3, 3))"
   ]
  },
  {
   "cell_type": "code",
   "execution_count": 42,
   "metadata": {},
   "outputs": [],
   "source": [
    "hollow_matrix = torch.ones((3, 3))\n",
    "inds = list(range(hollow_matrix.shape[0]))\n",
    "\n",
    "hollow_matrix[inds, inds]= 0\n"
   ]
  },
  {
   "cell_type": "code",
   "execution_count": 48,
   "metadata": {},
   "outputs": [],
   "source": [
    "Q_2 = torch.ones(size = (3, 3))\n",
    "f = torch.tensor([1, 2, 3])"
   ]
  },
  {
   "cell_type": "code",
   "execution_count": 49,
   "metadata": {},
   "outputs": [
    {
     "data": {
      "text/plain": [
       "tensor([[1.0000, 0.5000, 0.3333],\n",
       "        [1.0000, 0.5000, 0.3333],\n",
       "        [1.0000, 0.5000, 0.3333]])"
      ]
     },
     "execution_count": 49,
     "metadata": {},
     "output_type": "execute_result"
    }
   ],
   "source": [
    "Q_2 / f.unsqueeze(0)"
   ]
  },
  {
   "cell_type": "code",
   "execution_count": 93,
   "metadata": {},
   "outputs": [
    {
     "data": {
      "text/plain": [
       "dataset                                                    fbk_vineyard\n",
       "scene                                                  vineyard_split_1\n",
       "image                                   vineyard_split_1_frame_1085.png\n",
       "rotation_matrix       -0.6217828205139999;0.19214071264399996;-0.759...\n",
       "translation_vector                             541.225;-38.2184;122.981\n",
       "Name: 1844, dtype: object"
      ]
     },
     "execution_count": 93,
     "metadata": {},
     "output_type": "execute_result"
    }
   ],
   "source": [
    "labels.iloc[1844]"
   ]
  },
  {
   "cell_type": "code",
   "execution_count": 94,
   "metadata": {},
   "outputs": [
    {
     "data": {
      "text/plain": [
       "array([ 774, 1042,    3])"
      ]
     },
     "execution_count": 94,
     "metadata": {},
     "output_type": "execute_result"
    }
   ],
   "source": [
    "sizes[1417]"
   ]
  },
  {
   "cell_type": "code",
   "execution_count": 96,
   "metadata": {},
   "outputs": [],
   "source": [
    "images = np.random.randn(512, 64, 64, 3)"
   ]
  },
  {
   "cell_type": "code",
   "execution_count": 97,
   "metadata": {},
   "outputs": [
    {
     "ename": "ValueError",
     "evalue": "expected sequence of length 1 at dim 1 (got 2)",
     "output_type": "error",
     "traceback": [
      "\u001b[31m---------------------------------------------------------------------------\u001b[39m",
      "\u001b[31mValueError\u001b[39m                                Traceback (most recent call last)",
      "\u001b[36mCell\u001b[39m\u001b[36m \u001b[39m\u001b[32mIn[97]\u001b[39m\u001b[32m, line 1\u001b[39m\n\u001b[32m----> \u001b[39m\u001b[32m1\u001b[39m torch.tensor([[\u001b[32m1\u001b[39m], [\u001b[32m2\u001b[39m, \u001b[32m3\u001b[39m]])\n",
      "\u001b[31mValueError\u001b[39m: expected sequence of length 1 at dim 1 (got 2)"
     ]
    }
   ],
   "source": [
    "torch.tensor([[1], [2, 3]])"
   ]
  },
  {
   "cell_type": "code",
   "execution_count": 90,
   "metadata": {},
   "outputs": [
    {
     "data": {
      "text/plain": [
       "array([ 230400,  230400,  230400, ..., 1310720, 1310720, 1310720],\n",
       "      shape=(1945,))"
      ]
     },
     "execution_count": 90,
     "metadata": {},
     "output_type": "execute_result"
    }
   ],
   "source": [
    "image_sizes"
   ]
  },
  {
   "cell_type": "code",
   "execution_count": null,
   "metadata": {},
   "outputs": [],
   "source": []
  }
 ],
 "metadata": {
  "kernelspec": {
   "display_name": "icip_2025",
   "language": "python",
   "name": "python3"
  },
  "language_info": {
   "codemirror_mode": {
    "name": "ipython",
    "version": 3
   },
   "file_extension": ".py",
   "mimetype": "text/x-python",
   "name": "python",
   "nbconvert_exporter": "python",
   "pygments_lexer": "ipython3",
   "version": "3.12.9"
  }
 },
 "nbformat": 4,
 "nbformat_minor": 4
}
