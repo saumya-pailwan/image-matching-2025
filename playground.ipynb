{
 "cells": [
  {
   "cell_type": "markdown",
   "metadata": {},
   "source": [
    "This file serves as a playground file to read and visualized the data"
   ]
  },
  {
   "cell_type": "markdown",
   "metadata": {},
   "source": [
    "normalize first, then add padding"
   ]
  },
  {
   "cell_type": "code",
   "execution_count": 1,
   "metadata": {},
   "outputs": [],
   "source": [
    "import numpy as np\n",
    "import matplotlib.pyplot as plt\n",
    "from os.path import join\n",
    "import os\n",
    "import sys\n",
    "\n",
    "data_dir = \"/home/icip_2025/data\""
   ]
  },
  {
   "cell_type": "code",
   "execution_count": 2,
   "metadata": {},
   "outputs": [],
   "source": [
    "imagenet_mean = np.array([0.485, 0.456, 0.406])[np.newaxis, np.newaxis, ...]\n",
    "im = np.zeros((640, 1000, 3))"
   ]
  },
  {
   "cell_type": "code",
   "execution_count": 3,
   "metadata": {},
   "outputs": [
    {
     "data": {
      "text/plain": [
       "array([[[-0.485, -0.456, -0.406],\n",
       "        [-0.485, -0.456, -0.406],\n",
       "        [-0.485, -0.456, -0.406],\n",
       "        ...,\n",
       "        [-0.485, -0.456, -0.406],\n",
       "        [-0.485, -0.456, -0.406],\n",
       "        [-0.485, -0.456, -0.406]],\n",
       "\n",
       "       [[-0.485, -0.456, -0.406],\n",
       "        [-0.485, -0.456, -0.406],\n",
       "        [-0.485, -0.456, -0.406],\n",
       "        ...,\n",
       "        [-0.485, -0.456, -0.406],\n",
       "        [-0.485, -0.456, -0.406],\n",
       "        [-0.485, -0.456, -0.406]],\n",
       "\n",
       "       [[-0.485, -0.456, -0.406],\n",
       "        [-0.485, -0.456, -0.406],\n",
       "        [-0.485, -0.456, -0.406],\n",
       "        ...,\n",
       "        [-0.485, -0.456, -0.406],\n",
       "        [-0.485, -0.456, -0.406],\n",
       "        [-0.485, -0.456, -0.406]],\n",
       "\n",
       "       ...,\n",
       "\n",
       "       [[-0.485, -0.456, -0.406],\n",
       "        [-0.485, -0.456, -0.406],\n",
       "        [-0.485, -0.456, -0.406],\n",
       "        ...,\n",
       "        [-0.485, -0.456, -0.406],\n",
       "        [-0.485, -0.456, -0.406],\n",
       "        [-0.485, -0.456, -0.406]],\n",
       "\n",
       "       [[-0.485, -0.456, -0.406],\n",
       "        [-0.485, -0.456, -0.406],\n",
       "        [-0.485, -0.456, -0.406],\n",
       "        ...,\n",
       "        [-0.485, -0.456, -0.406],\n",
       "        [-0.485, -0.456, -0.406],\n",
       "        [-0.485, -0.456, -0.406]],\n",
       "\n",
       "       [[-0.485, -0.456, -0.406],\n",
       "        [-0.485, -0.456, -0.406],\n",
       "        [-0.485, -0.456, -0.406],\n",
       "        ...,\n",
       "        [-0.485, -0.456, -0.406],\n",
       "        [-0.485, -0.456, -0.406],\n",
       "        [-0.485, -0.456, -0.406]]], shape=(640, 1000, 3))"
      ]
     },
     "execution_count": 3,
     "metadata": {},
     "output_type": "execute_result"
    }
   ],
   "source": [
    "im - imagenet_mean"
   ]
  },
  {
   "cell_type": "code",
   "execution_count": 37,
   "metadata": {},
   "outputs": [],
   "source": [
    "train_dir = join(data_dir, \"train\")\n",
    "\n",
    "datasets = os.listdir(train_dir)\n",
    "\n",
    "shape = None\n",
    "\n",
    "sizes = []\n",
    "\n",
    "for dataset in datasets:\n",
    "    dataset_path = join(train_dir, dataset)\n",
    "    dataset_images = os.listdir(dataset_path)\n",
    "\n",
    "    for image_name in dataset_images:\n",
    "        image_path = join(dataset_path, image_name)\n",
    "        image = plt.imread(image_path)\n",
    "\n",
    "        s = image.shape\n",
    "        s = s if s[1] / s[0] > 1 else (s[1], s[0], 3)\n",
    "        sizes.append(s)\n",
    "\n",
    "        # if shape is None:\n",
    "        #     shape = image.shape\n",
    "        # elif image.shape != shape:\n",
    "        #     print(shape, image.shape)\n",
    "        #     # sys.exit(\"Shapes are inconsistent\")\n",
    "\n"
   ]
  },
  {
   "cell_type": "code",
   "execution_count": 38,
   "metadata": {},
   "outputs": [],
   "source": [
    "sizes = np.array(sizes)"
   ]
  },
  {
   "cell_type": "code",
   "execution_count": 39,
   "metadata": {},
   "outputs": [
    {
     "data": {
      "text/plain": [
       "(array([ 849.13984576, 1235.15526992,    3.        ]),\n",
       " array([117, 204,   3]),\n",
       " array([4032, 6048,    3]),\n",
       " array([ 700., 1024.,    3.]))"
      ]
     },
     "execution_count": 39,
     "metadata": {},
     "output_type": "execute_result"
    }
   ],
   "source": [
    "sizes.mean(axis = 0), sizes.min(axis = 0), sizes.max(axis = 0), np.median(sizes, axis = 0)"
   ]
  },
  {
   "cell_type": "code",
   "execution_count": 57,
   "metadata": {},
   "outputs": [],
   "source": [
    "aspect_ratios = sizes[:, 1] / sizes[:, 0]"
   ]
  },
  {
   "cell_type": "code",
   "execution_count": 58,
   "metadata": {},
   "outputs": [
    {
     "data": {
      "text/plain": [
       "np.float64(0.03882707177657215)"
      ]
     },
     "execution_count": 58,
     "metadata": {},
     "output_type": "execute_result"
    }
   ],
   "source": [
    "aspect_ratios.var()"
   ]
  },
  {
   "cell_type": "code",
   "execution_count": 59,
   "metadata": {},
   "outputs": [
    {
     "ename": "NameError",
     "evalue": "name 'aspect_ratio' is not defined",
     "output_type": "error",
     "traceback": [
      "\u001b[31m---------------------------------------------------------------------------\u001b[39m",
      "\u001b[31mNameError\u001b[39m                                 Traceback (most recent call last)",
      "\u001b[36mCell\u001b[39m\u001b[36m \u001b[39m\u001b[32mIn[59]\u001b[39m\u001b[32m, line 1\u001b[39m\n\u001b[32m----> \u001b[39m\u001b[32m1\u001b[39m plt.hist(aspect_ratio, bins = \u001b[32m10\u001b[39m)\n",
      "\u001b[31mNameError\u001b[39m: name 'aspect_ratio' is not defined"
     ]
    }
   ],
   "source": [
    "plt.hist(aspect_ratio, bins = 10)"
   ]
  },
  {
   "cell_type": "code",
   "execution_count": 67,
   "metadata": {},
   "outputs": [
    {
     "data": {
      "text/plain": [
       "array([1200, 1200,    3])"
      ]
     },
     "execution_count": 67,
     "metadata": {},
     "output_type": "execute_result"
    }
   ],
   "source": [
    "sizes[(sizes[:, 1] * sizes[:, 0]).argsort()[int(sizes.shape[0] * 0.9)]]"
   ]
  },
  {
   "cell_type": "code",
   "execution_count": 55,
   "metadata": {},
   "outputs": [
    {
     "data": {
      "text/plain": [
       "1.8473413379073755"
      ]
     },
     "execution_count": 55,
     "metadata": {},
     "output_type": "execute_result"
    }
   ],
   "source": [
    "1077 / 583"
   ]
  },
  {
   "cell_type": "code",
   "execution_count": null,
   "metadata": {},
   "outputs": [],
   "source": []
  },
  {
   "cell_type": "code",
   "execution_count": null,
   "metadata": {},
   "outputs": [],
   "source": []
  },
  {
   "cell_type": "code",
   "execution_count": 4,
   "metadata": {},
   "outputs": [
    {
     "ename": "ModuleNotFoundError",
     "evalue": "No module named 'pandas'",
     "output_type": "error",
     "traceback": [
      "\u001b[31m---------------------------------------------------------------------------\u001b[39m",
      "\u001b[31mModuleNotFoundError\u001b[39m                       Traceback (most recent call last)",
      "\u001b[36mCell\u001b[39m\u001b[36m \u001b[39m\u001b[32mIn[4]\u001b[39m\u001b[32m, line 2\u001b[39m\n\u001b[32m      1\u001b[39m \u001b[38;5;28;01mimport\u001b[39;00m\u001b[38;5;250m \u001b[39m\u001b[34;01mos\u001b[39;00m\n\u001b[32m----> \u001b[39m\u001b[32m2\u001b[39m \u001b[38;5;28;01mimport\u001b[39;00m\u001b[38;5;250m \u001b[39m\u001b[34;01mpandas\u001b[39;00m\u001b[38;5;250m \u001b[39m\u001b[38;5;28;01mas\u001b[39;00m\u001b[38;5;250m \u001b[39m\u001b[34;01mpd\u001b[39;00m\n\u001b[32m      3\u001b[39m \u001b[38;5;28;01mfrom\u001b[39;00m\u001b[38;5;250m \u001b[39m\u001b[34;01mPIL\u001b[39;00m\u001b[38;5;250m \u001b[39m\u001b[38;5;28;01mimport\u001b[39;00m Image\n\u001b[32m      4\u001b[39m \u001b[38;5;28;01mimport\u001b[39;00m\u001b[38;5;250m \u001b[39m\u001b[34;01mmatplotlib\u001b[39;00m\u001b[34;01m.\u001b[39;00m\u001b[34;01mpyplot\u001b[39;00m\u001b[38;5;250m \u001b[39m\u001b[38;5;28;01mas\u001b[39;00m\u001b[38;5;250m \u001b[39m\u001b[34;01mplt\u001b[39;00m\n",
      "\u001b[31mModuleNotFoundError\u001b[39m: No module named 'pandas'"
     ]
    }
   ],
   "source": [
    "import os\n",
    "import pandas as pd\n",
    "from PIL import Image\n",
    "import matplotlib.pyplot as plt\n",
    "import torchvision.transforms.functional as F\n",
    "import torch\n",
    "from torchvision import transforms"
   ]
  },
  {
   "cell_type": "code",
   "execution_count": null,
   "metadata": {},
   "outputs": [],
   "source": []
  }
 ],
 "metadata": {
  "kernelspec": {
   "display_name": "icip_2025",
   "language": "python",
   "name": "icip_2025"
  },
  "language_info": {
   "codemirror_mode": {
    "name": "ipython",
    "version": 3
   },
   "file_extension": ".py",
   "mimetype": "text/x-python",
   "name": "python",
   "nbconvert_exporter": "python",
   "pygments_lexer": "ipython3",
   "version": "3.12.9"
  }
 },
 "nbformat": 4,
 "nbformat_minor": 4
}
